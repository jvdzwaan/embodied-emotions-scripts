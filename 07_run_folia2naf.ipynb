{
 "cells": [
  {
   "cell_type": "code",
   "execution_count": 7,
   "metadata": {},
   "outputs": [
    {
     "name": "stdout",
     "output_type": "stream",
     "text": [
      "/home/jvdzwaan/data/input/DB_AA.txt.xml (1 of 10)\n",
      "Extracting sentences from s-tags\n",
      "writing /home/jvdzwaan/data/tmp-naf/DB_AA.txt.xml\n",
      "\n",
      "/home/jvdzwaan/data/input/DB_BB.txt.xml (2 of 10)\n",
      "Extracting sentences from s-tags\n",
      "writing /home/jvdzwaan/data/tmp-naf/DB_BB.txt.xml\n",
      "\n",
      "/home/jvdzwaan/data/input/DB_CC.txt.xml (3 of 10)\n",
      "Extracting sentences from s-tags\n",
      "writing /home/jvdzwaan/data/tmp-naf/DB_CC.txt.xml\n",
      "\n",
      "/home/jvdzwaan/data/input/DB_DD.txt.xml (4 of 10)\n",
      "Extracting sentences from s-tags\n",
      "writing /home/jvdzwaan/data/tmp-naf/DB_DD.txt.xml\n",
      "\n",
      "/home/jvdzwaan/data/input/DB_EE.txt.xml (5 of 10)\n",
      "Extracting sentences from s-tags\n",
      "writing /home/jvdzwaan/data/tmp-naf/DB_EE.txt.xml\n",
      "\n",
      "/home/jvdzwaan/data/input/DB_FF.txt.xml (6 of 10)\n",
      "Extracting sentences from s-tags\n",
      "writing /home/jvdzwaan/data/tmp-naf/DB_FF.txt.xml\n",
      "\n",
      "/home/jvdzwaan/data/input/DB_GG.txt.xml (7 of 10)\n",
      "Extracting sentences from s-tags\n",
      "writing /home/jvdzwaan/data/tmp-naf/DB_GG.txt.xml\n",
      "\n",
      "/home/jvdzwaan/data/input/DB_HH.txt.xml (8 of 10)\n",
      "Extracting sentences from s-tags\n",
      "writing /home/jvdzwaan/data/tmp-naf/DB_HH.txt.xml\n",
      "\n",
      "/home/jvdzwaan/data/input/DB_II.txt.xml (9 of 10)\n",
      "Extracting sentences from s-tags\n",
      "writing /home/jvdzwaan/data/tmp-naf/DB_II.txt.xml\n",
      "\n",
      "/home/jvdzwaan/data/input/DB_JJ.txt.xml (10 of 10)\n",
      "Extracting sentences from s-tags\n",
      "writing /home/jvdzwaan/data/tmp-naf/DB_JJ.txt.xml\n",
      "\n"
     ]
    }
   ],
   "source": [
    "%run embem/kafnaftag/folia2naf.py /home/jvdzwaan/data/input /home/jvdzwaan/data/tmp-naf"
   ]
  },
  {
   "cell_type": "code",
   "execution_count": 3,
   "metadata": {},
   "outputs": [
    {
     "name": "stdout",
     "output_type": "stream",
     "text": [
      "DB_AA.txt.xml  DB_CC.txt.xml  DB_EE.txt.xml  DB_GG.txt.xml  DB_II.txt.xml\r\n",
      "DB_BB.txt.xml  DB_DD.txt.xml  DB_FF.txt.xml  DB_HH.txt.xml  DB_JJ.txt.xml\r\n"
     ]
    }
   ],
   "source": [
    "! ls /home/jvdzwaan/data/input"
   ]
  },
  {
   "cell_type": "code",
   "execution_count": 8,
   "metadata": {},
   "outputs": [
    {
     "name": "stdout",
     "output_type": "stream",
     "text": [
      "DB_AA.txt.xml  DB_CC.txt.xml  DB_EE.txt.xml  DB_GG.txt.xml  DB_II.txt.xml\r\n",
      "DB_BB.txt.xml  DB_DD.txt.xml  DB_FF.txt.xml  DB_HH.txt.xml  DB_JJ.txt.xml\r\n"
     ]
    }
   ],
   "source": [
    "! ls /home/jvdzwaan/data/tmp-naf"
   ]
  }
 ],
 "metadata": {
  "kernelspec": {
   "display_name": "Python 2",
   "language": "python",
   "name": "python2"
  },
  "language_info": {
   "codemirror_mode": {
    "name": "ipython",
    "version": 2
   },
   "file_extension": ".py",
   "mimetype": "text/x-python",
   "name": "python",
   "nbconvert_exporter": "python",
   "pygments_lexer": "ipython2",
   "version": "2.7.18"
  }
 },
 "nbformat": 4,
 "nbformat_minor": 2
}
