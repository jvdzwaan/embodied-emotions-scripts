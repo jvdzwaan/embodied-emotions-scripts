{
 "cells": [
  {
   "cell_type": "markdown",
   "metadata": {},
   "source": [
    "# Pipeline to create data to classify\n",
    "\n",
    "This pipeline can be used to create input for the classifiers from folia xml.\n",
    "\n",
    "Please adjust the arguments of scripts (usually refering to the location of input and/or output data) to your local location of the data."
   ]
  },
  {
   "cell_type": "markdown",
   "metadata": {},
   "source": [
    "## Convert Folia Files\n",
    "\n",
    "Because the folia files in corpus big (additional folia files) are not as nicely structured into acts as the texts for annotation, a custom script must be used.  "
   ]
  },
  {
   "cell_type": "code",
   "execution_count": 5,
   "metadata": {},
   "outputs": [
    {
     "name": "stdout",
     "output_type": "stream",
     "text": [
      "\n",
      "Running script: embem/machinelearningdata/folia2dataset_for_prediction.py\n",
      "for all files in: /home/jvdzwaan/data/input/\n",
      "saving output files in: /home/jvdzwaan/data/tmp/unnormalized/\n",
      "\n",
      "(1) /home/jvdzwaan/data/input/input.txt.xml\n",
      "Writing file: /home/jvdzwaan/data/tmp/unnormalized/input.txt.xml.txt\n",
      "Extracting sentences from s-tags\n",
      "2 sentences\n",
      "\n"
     ]
    }
   ],
   "source": [
    "# convert additional folia files to input for prediction\n",
    "# usage: !./batch_do_python.sh embem/machinelearningdata/folia2dataset_for_prediction.py <directory with input folia files> <directory for output files>\n",
    "\n",
    "!./batch_do_python.sh embem/machinelearningdata/folia2dataset_for_prediction.py /home/jvdzwaan/data/input/ /home/jvdzwaan/data/tmp/unnormalized/"
   ]
  },
  {
   "cell_type": "code",
   "execution_count": 6,
   "metadata": {},
   "outputs": [
    {
     "name": "stdout",
     "output_type": "stream",
     "text": [
      "input.txt.xml.txt\r\n"
     ]
    }
   ],
   "source": [
    "! ls /home/jvdzwaan/data/tmp/unnormalized/"
   ]
  },
  {
   "cell_type": "code",
   "execution_count": 7,
   "metadata": {},
   "outputs": [
    {
     "name": "stdout",
     "output_type": "stream",
     "text": [
      "input.txt.p.1.s.1\tDit is een tekst .\tNone\r\n",
      "input.txt.p.1.s.2\tEen mooie test .\tNone\r\n"
     ]
    }
   ],
   "source": [
    "! cat /home/jvdzwaan/data/tmp/unnormalized/input.txt.xml.txt"
   ]
  },
  {
   "cell_type": "markdown",
   "metadata": {},
   "source": [
    "## Create normalized data for prediction\n",
    "\n",
    "Once text files for prediction have been created, these should be normalized \n",
    "(the best performing classifiers are trained on normalized data)."
   ]
  },
  {
   "cell_type": "code",
   "execution_count": 9,
   "metadata": {},
   "outputs": [
    {
     "name": "stdout",
     "output_type": "stream",
     "text": [
      "#words in dict: 103062\n",
      "input.txt.xml.txt\n",
      "total words\t3\n",
      "total replaced\t2\n",
      "dit\tdeze\t1\n",
      "test\ttets\t1\n",
      "is\tzijn\t1\n",
      "mooie\tmooi\t1\n"
     ]
    }
   ],
   "source": [
    "# normalize text data\n",
    "# usage: %run embem/spellingnormalization/normalize_dataset.py <directory with input text files> <directory for output files>\n",
    "\n",
    "%run embem/spellingnormalization/normalize_dataset.py /home/jvdzwaan/data/tmp/unnormalized/ /home/jvdzwaan/data/embem/dict/hist2modern_bwnt.json /home/jvdzwaan/data/tmp/normalized"
   ]
  },
  {
   "cell_type": "code",
   "execution_count": 10,
   "metadata": {},
   "outputs": [
    {
     "name": "stdout",
     "output_type": "stream",
     "text": [
      "input.txt.xml.txt\r\n"
     ]
    }
   ],
   "source": [
    "! ls /home/jvdzwaan/data/tmp/normalized/"
   ]
  },
  {
   "cell_type": "code",
   "execution_count": 11,
   "metadata": {},
   "outputs": [
    {
     "name": "stdout",
     "output_type": "stream",
     "text": [
      "input.txt.p.1.s.1\tdeze zijn een tekst .\tNone\r\n",
      "input.txt.p.1.s.2\tEen mooi tets .\tNone\r\n"
     ]
    }
   ],
   "source": [
    "! cat /home/jvdzwaan/data/tmp/normalized/input.txt.xml.txt"
   ]
  },
  {
   "cell_type": "markdown",
   "metadata": {},
   "source": [
    "The next step is to use the classifiers to predict the labels for the generated (normalized) text files. See notebook [02b_classify_new_texts](02b_classify_new_texts.ipynb)."
   ]
  }
 ],
 "metadata": {
  "kernelspec": {
   "display_name": "Python 2",
   "language": "python",
   "name": "python2"
  },
  "language_info": {
   "codemirror_mode": {
    "name": "ipython",
    "version": 2
   },
   "file_extension": ".py",
   "mimetype": "text/x-python",
   "name": "python",
   "nbconvert_exporter": "python",
   "pygments_lexer": "ipython2",
   "version": "2.7.18"
  }
 },
 "nbformat": 4,
 "nbformat_minor": 1
}
